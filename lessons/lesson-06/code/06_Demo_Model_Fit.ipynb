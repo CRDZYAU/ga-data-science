{
 "cells": [
  {
   "cell_type": "code",
   "execution_count": 3,
   "metadata": {
    "collapsed": true
   },
   "outputs": [],
   "source": [
    "import pandas as pd\n",
    "import numpy as np\n",
    "from sklearn import model_selection, metrics\n",
    "from sklearn.linear_model import LinearRegression, Lasso, Ridge\n",
    "from sklearn.preprocessing import PolynomialFeatures, StandardScaler\n",
    "from sklearn.pipeline import make_pipeline # Later WHAT FLAVOUR\n",
    "import statsmodels.formula.api as smf\n",
    "\n",
    "# visualization\n",
    "import seaborn as sns\n",
    "import matplotlib.pyplot as plt\n",
    "%matplotlib inline"
   ]
  },
  {
   "cell_type": "markdown",
   "metadata": {},
   "source": [
    "### Evaluation metrics for regression problems\n",
    "\n",
    "Evaluation metrics are useful for explaining the accuracy of our models, comparing different models, and deciding which variables to include into a model.\n",
    "\n",
    "Let's create some example numeric predictions, and calculate three common evaluation metrics for regression problems:"
   ]
  },
  {
   "cell_type": "code",
   "execution_count": 4,
   "metadata": {
    "collapsed": true
   },
   "outputs": [],
   "source": [
    "# define true and predicted response values\n",
    "y_true = [100, 50, 30, 20]\n",
    "y_pred = [90, 50, 50, 30]"
   ]
  },
  {
   "cell_type": "markdown",
   "metadata": {},
   "source": [
    "**Mean Absolute Error** (MAE) is the mean of the absolute value of the errors:\n",
    "\n",
    "$$\\frac 1n\\sum_{i=1}^n|y_i-\\hat{y}_i|$$"
   ]
  },
  {
   "cell_type": "code",
   "execution_count": 5,
   "metadata": {
    "collapsed": false
   },
   "outputs": [
    {
     "name": "stdout",
     "output_type": "stream",
     "text": [
      "10.0\n"
     ]
    }
   ],
   "source": [
    "print metrics.mean_absolute_error(y_true, y_pred)"
   ]
  },
  {
   "cell_type": "markdown",
   "metadata": {},
   "source": [
    "**Mean Squared Error** (MSE) is the mean of the squared errors:\n",
    "\n",
    "$$\\frac 1n\\sum_{i=1}^n(y_i-\\hat{y}_i)^2$$"
   ]
  },
  {
   "cell_type": "code",
   "execution_count": 6,
   "metadata": {
    "collapsed": false
   },
   "outputs": [
    {
     "name": "stdout",
     "output_type": "stream",
     "text": [
      "150.0\n"
     ]
    }
   ],
   "source": [
    "print metrics.mean_squared_error(y_true, y_pred)"
   ]
  },
  {
   "cell_type": "markdown",
   "metadata": {},
   "source": [
    "**Root Mean Squared Error** (RMSE) is the square root of the mean of the squared errors:\n",
    "\n",
    "$$\\sqrt{\\frac 1n\\sum_{i=1}^n(y_i-\\hat{y}_i)^2}$$"
   ]
  },
  {
   "cell_type": "code",
   "execution_count": 7,
   "metadata": {
    "collapsed": false
   },
   "outputs": [
    {
     "name": "stdout",
     "output_type": "stream",
     "text": [
      "12.2474487139\n",
      "12.2474487139\n"
     ]
    }
   ],
   "source": [
    "print np.sqrt(metrics.mean_squared_error(y_true, y_pred))\n",
    "print metrics.mean_squared_error(y_true, y_pred) ** 0.5"
   ]
  },
  {
   "cell_type": "markdown",
   "metadata": {},
   "source": [
    "Comparing these metrics:\n",
    "\n",
    "- **MAE** is the easiest to understand, because it's the average error.\n",
    "- **MSE** is more popular than MAE, because MSE \"punishes\" larger errors, which tends to be useful in the real world.\n",
    "- **RMSE** is even more popular than MSE, because RMSE is interpretable in the \"y\" units. # interpreted in Y units\n",
    "\n",
    "All of these are **loss functions**, because we want to minimize them.\n",
    "\n",
    "Here's an additional example, to demonstrate how MSE/RMSE punish larger errors:"
   ]
  },
  {
   "cell_type": "code",
   "execution_count": 6,
   "metadata": {
    "collapsed": false
   },
   "outputs": [
    {
     "name": "stdout",
     "output_type": "stream",
     "text": [
      "10.0\n",
      "20.0\n"
     ]
    }
   ],
   "source": [
    "# same true values as above\n",
    "y_true = [100, 50, 30, 20]\n",
    "\n",
    "# new set of predicted values\n",
    "y_pred = [60, 50, 30, 20]\n",
    "\n",
    "# MAE is the same as before\n",
    "print metrics.mean_absolute_error(y_true, y_pred)\n",
    "\n",
    "# RMSE is larger than before\n",
    "print np.sqrt(metrics.mean_squared_error(y_true, y_pred))"
   ]
  },
  {
   "cell_type": "markdown",
   "metadata": {},
   "source": [
    "### Computing evaluation metrics for our linear model on the advertising dataset\n",
    "\n",
    "Let's compute these evaluation metrics for the linear model we have developed for our advertising dataset"
   ]
  },
  {
   "cell_type": "code",
   "execution_count": 8,
   "metadata": {
    "collapsed": false
   },
   "outputs": [
    {
     "data": {
      "text/html": [
       "<div>\n",
       "<table border=\"1\" class=\"dataframe\">\n",
       "  <thead>\n",
       "    <tr style=\"text-align: right;\">\n",
       "      <th></th>\n",
       "      <th>TV</th>\n",
       "      <th>Radio</th>\n",
       "      <th>Newspaper</th>\n",
       "      <th>Sales</th>\n",
       "    </tr>\n",
       "  </thead>\n",
       "  <tbody>\n",
       "    <tr>\n",
       "      <th>1</th>\n",
       "      <td>230.1</td>\n",
       "      <td>37.8</td>\n",
       "      <td>69.2</td>\n",
       "      <td>22.1</td>\n",
       "    </tr>\n",
       "    <tr>\n",
       "      <th>2</th>\n",
       "      <td>44.5</td>\n",
       "      <td>39.3</td>\n",
       "      <td>45.1</td>\n",
       "      <td>10.4</td>\n",
       "    </tr>\n",
       "    <tr>\n",
       "      <th>3</th>\n",
       "      <td>17.2</td>\n",
       "      <td>45.9</td>\n",
       "      <td>69.3</td>\n",
       "      <td>9.3</td>\n",
       "    </tr>\n",
       "    <tr>\n",
       "      <th>4</th>\n",
       "      <td>151.5</td>\n",
       "      <td>41.3</td>\n",
       "      <td>58.5</td>\n",
       "      <td>18.5</td>\n",
       "    </tr>\n",
       "    <tr>\n",
       "      <th>5</th>\n",
       "      <td>180.8</td>\n",
       "      <td>10.8</td>\n",
       "      <td>58.4</td>\n",
       "      <td>12.9</td>\n",
       "    </tr>\n",
       "  </tbody>\n",
       "</table>\n",
       "</div>"
      ],
      "text/plain": [
       "      TV  Radio  Newspaper  Sales\n",
       "1  230.1   37.8       69.2   22.1\n",
       "2   44.5   39.3       45.1   10.4\n",
       "3   17.2   45.9       69.3    9.3\n",
       "4  151.5   41.3       58.5   18.5\n",
       "5  180.8   10.8       58.4   12.9"
      ]
     },
     "execution_count": 8,
     "metadata": {},
     "output_type": "execute_result"
    }
   ],
   "source": [
    "# read data into a DataFrame\n",
    "advert = pd.read_csv('http://www-bcf.usc.edu/~gareth/ISL/Advertising.csv', index_col=0)\n",
    "advert.head()"
   ]
  },
  {
   "cell_type": "code",
   "execution_count": 9,
   "metadata": {
    "collapsed": true
   },
   "outputs": [],
   "source": [
    "factors = [\"TV\", \"Radio\", \"Newspaper\"]\n",
    "X = advert[factors]\n",
    "y = advert[\"Sales\"]"
   ]
  },
  {
   "cell_type": "code",
   "execution_count": 11,
   "metadata": {
    "collapsed": true
   },
   "outputs": [],
   "source": [
    "lm = smf.ols(formula=\"Sales ~ TV + Radio + Newspaper\", data=advert).fit() # lm = linear regression model\n",
    "sales_preds = lm.predict(X)"
   ]
  },
  {
   "cell_type": "code",
   "execution_count": 13,
   "metadata": {
    "collapsed": false
   },
   "outputs": [
    {
     "data": {
      "image/png": "[encoded data removed]",
      "text/plain": [
       "<matplotlib.figure.Figure at 0xd147940>"
      ]
     },
     "metadata": {},
     "output_type": "display_data"
    }
   ],
   "source": [
    "plt.figure(figsize=(8,6))\n",
    "plt.hist(y - sales_preds, bins=20)\n",
    "plt.title(\"Histogram of residual errors\")\n",
    "plt.show()\n",
    "# looking and checking for residual errors. Notive errors past 0"
   ]
  },
  {
   "cell_type": "markdown",
   "metadata": {},
   "source": [
    "Plotting the residual errors provides us a useful indication of how our model is performing. Ideally, we would like the errors to be normally distributed around zero with minimal variance."
   ]
  },
  {
   "cell_type": "code",
   "execution_count": 16,
   "metadata": {
    "collapsed": false
   },
   "outputs": [
    {
     "name": "stdout",
     "output_type": "stream",
     "text": [
      "R squared: 0.897210638179\n",
      "Adjusted R squared: 0.89563733162\n",
      "MAE: 1.25201122969\n",
      "MSE: 2.78412631451\n",
      "RMSE: 1.66857014072\n"
     ]
    }
   ],
   "source": [
    "print \"R squared:\", lm.rsquared\n",
    "print \"Adjusted R squared:\", lm.rsquared_adj\n",
    "print \"MAE:\", metrics.mean_absolute_error(y, sales_preds)\n",
    "print \"MSE:\", metrics.mean_squared_error(y, sales_preds)\n",
    "print \"RMSE:\", np.sqrt(metrics.mean_squared_error(y, sales_preds)) \n",
    "#thousand of widgets sold. indicates 1000 to 2000 widgets error. Out of 50,000 sold or so. Refer to last data set"
   ]
  },
  {
   "cell_type": "markdown",
   "metadata": {},
   "source": [
    "Our model looks pretty good, with a fairly low RMSE. Remember that the model is fitted to minimize squared errors, but we don't know how it will perform on unseen or new data."
   ]
  },
  {
   "cell_type": "markdown",
   "metadata": {},
   "source": [
    "### Bias vs Variance"
   ]
  },
  {
   "cell_type": "markdown",
   "metadata": {},
   "source": [
    "Let's explore the problem of overfitting, looking at an extreme example. We first generate a hypothetical function which represents a ground truth along with some random noise."
   ]
  },
  {
   "cell_type": "code",
   "execution_count": 17,
   "metadata": {
    "collapsed": true
   },
   "outputs": [],
   "source": [
    "func = lambda x: (x-5)**2 \n",
    "noise = lambda x: np.random.normal(scale=5.0, size=len(x))"
   ]
  },
  {
   "cell_type": "code",
   "execution_count": 20,
   "metadata": {
    "collapsed": true
   },
   "outputs": [],
   "source": [
    "n = 10\n",
    "x_sample = np.linspace(0, 15, n) #linspace generating space - n values between 0 to 15. Just dummy DATA GENERATION IGNORE\n",
    "y_sample = func(x_sample) + noise(x_sample) \n",
    "df = pd.DataFrame({'x': x_sample, 'y': y_sample})"
   ]
  },
  {
   "cell_type": "code",
   "execution_count": 21,
   "metadata": {
    "collapsed": false
   },
   "outputs": [
    {
     "data": {
      "image/png": "[encoded data removed]",
      "text/plain": [
       "<matplotlib.figure.Figure at 0xcf04be0>"
      ]
     },
     "metadata": {},
     "output_type": "display_data"
    }
   ],
   "source": [
    "plt.scatter(x_sample, y_sample)\n",
    "plt.plot(x_sample, func(x_sample))\n",
    "plt.show()"
   ]
  },
  {
   "cell_type": "markdown",
   "metadata": {},
   "source": [
    "We then proceed to construct three models of varying complexity by creating additional polynomial features.\n",
    "\n",
    "**PolynomialFeatures**: Generate a new feature matrix consisting of all polynomial combinations of the features with degree less than or equal to the specified degree. http://scikit-learn.org/stable/modules/generated/sklearn.preprocessing.PolynomialFeatures.html"
   ]
  },
  {
   "cell_type": "markdown",
   "metadata": {},
   "source": [
    "We will cover pipelines in more detail in future lessons \n",
    "\n",
    "**Pipelines**: Sequentially apply a list of transforms and a final estimator. Intermediate steps of the pipeline must be ‘transforms’, that is, they must implement fit and transform methods. The final estimator only needs to implement fit. http://scikit-learn.org/stable/modules/generated/sklearn.pipeline.Pipeline.html"
   ]
  },
  {
   "cell_type": "code",
   "execution_count": 22,
   "metadata": {
    "collapsed": false
   },
   "outputs": [
    {
     "data": {
      "image/png": "[encoded data removed]",
      "text/plain": [
       "<matplotlib.figure.Figure at 0x6df51d0>"
      ]
     },
     "metadata": {},
     "output_type": "display_data"
    }
   ],
   "source": [
    "degrees = [1,2,8]\n",
    "models = []\n",
    "for degree in degrees:\n",
    "    model = make_pipeline(PolynomialFeatures(degree), LinearRegression()).fit(df[['x']], df['y'])\n",
    "    y_pred = model.predict(df[['x']])\n",
    "    plt.plot(df[['x']], y_pred, label=\"deg %d (R2 %.2f, RMSE %.2f)\" %\n",
    "             (degree, model.score(df[['x']], df['y']), np.sqrt(metrics.mean_squared_error(df['y'], y_pred))))\n",
    "    models.append(model)\n",
    "    \n",
    "plt.scatter(x_sample, y_sample)    \n",
    "plt.legend()\n",
    "plt.show()"
   ]
  },
  {
   "cell_type": "markdown",
   "metadata": {},
   "source": [
    "The most complex model with the highest polynomial features has the lowest RMSE but it may just be overfitting the data and connecting all the dots. \n",
    "\n",
    "- It's actually a result from algebra that you can fit *any* finite set of data points with a polynomial. \n",
    "- In fact, for any set of $n$ data points, there exists a polynomial of degree $n$ that goes right through them.\n",
    "- This is great if you want to approximate your data arbitrarily closely.\n",
    "- It's not great if you are afraid of overfitting your data\n",
    "\n",
    "Let's test the models against some new data."
   ]
  },
  {
   "cell_type": "code",
   "execution_count": 23,
   "metadata": {
    "collapsed": true
   },
   "outputs": [],
   "source": [
    "n = 50\n",
    "x_test = np.linspace(0, 15, n)\n",
    "y_test = func(x_test) + noise(x_test) \n",
    "df_test = pd.DataFrame({'x': x_test, 'y': y_test})"
   ]
  },
  {
   "cell_type": "code",
   "execution_count": 24,
   "metadata": {
    "collapsed": false
   },
   "outputs": [
    {
     "data": {
      "image/png": "[encoded data removed]",
      "text/plain": [
       "<matplotlib.figure.Figure at 0xcfc2d30>"
      ]
     },
     "metadata": {},
     "output_type": "display_data"
    }
   ],
   "source": [
    "for degree, model in zip(degrees, models):\n",
    "    y_pred = model.predict(df_test[['x']])\n",
    "    plt.plot(df_test[['x']], y_pred, label=\"deg %d (R2 %.2f, RMSE %.2f)\" % \n",
    "             (degree, model.score(df_test[['x']], df_test['y']), \n",
    "              np.sqrt(metrics.mean_squared_error(df_test['y'], y_pred))))\n",
    "plt.legend()\n",
    "plt.scatter(x_test, y_test)    \n",
    "plt.show()"
   ]
  },
  {
   "cell_type": "markdown",
   "metadata": {},
   "source": [
    "The first model is biased as a linear model isn't able to fully capture the quadratic relationship. The model with a high number of degrees has overfitted the training set and doesn't perform well on previously unseen data.  "
   ]
  },
  {
   "cell_type": "markdown",
   "metadata": {},
   "source": [
    "### Model Evaluation\n",
    "\n",
    "**Motivation:** Need a way to choose between machine learning models\n",
    "\n",
    "- Goal is to estimate likely performance of a model on **out-of-sample data**\n",
    "\n",
    "**Initial idea:** Train and test on the same data\n",
    "\n",
    "- But, maximizing **training accuracy** rewards overly complex models which **overfit** the training data\n",
    "\n",
    "**Alternative idea:** Train/test split\n",
    "\n",
    "- Split the dataset into two pieces, so that the model can be trained and tested on **different data**\n",
    "- **Testing accuracy** is a better estimate than training accuracy of out-of-sample performance\n",
    "- But, it provides a **high variance** estimate since changing which observations happen to be in the testing set can significantly change testing accuracy"
   ]
  },
  {
   "cell_type": "code",
   "execution_count": 30,
   "metadata": {
    "collapsed": false
   },
   "outputs": [
    {
     "data": {
      "text/plain": [
       "((120, 4), (80, 4))"
      ]
     },
     "execution_count": 30,
     "metadata": {},
     "output_type": "execute_result"
    }
   ],
   "source": [
    "train, test = model_selection.train_test_split(advert, test_size=0.4, random_state=50)\n",
    "train.shape, test.shape"
   ]
  },
  {
   "cell_type": "code",
   "execution_count": 26,
   "metadata": {
    "collapsed": true
   },
   "outputs": [],
   "source": [
    "lm_overfit = smf.ols(formula=\"Sales ~ I(TV ** 2) + I(TV ** 3) + I(TV ** 4) + I(TV ** 5) \\\n",
    "             + I(Radio ** 2) + I(Radio ** 3) + I(Radio ** 4) + I(Radio ** 5) \\\n",
    "             + I(Newspaper ** 2) + I(Newspaper ** 3) + I(Newspaper ** 4) + I(Newspaper ** 5)\", data=train).fit()\n",
    "#lm_overfit.summary()"
   ]
  },
  {
   "cell_type": "code",
   "execution_count": 31,
   "metadata": {
    "collapsed": true
   },
   "outputs": [],
   "source": [
    "lm_simple = smf.ols(formula=\"Sales ~ TV + Radio + Newspaper\", data=train).fit()\n",
    "#lm_simple.summary()"
   ]
  },
  {
   "cell_type": "code",
   "execution_count": 32,
   "metadata": {
    "collapsed": false
   },
   "outputs": [
    {
     "name": "stdout",
     "output_type": "stream",
     "text": [
      "Overfitted Model Training MSE: 2.139992\n",
      "Simple Model Training MSE: 3.160282\n"
     ]
    }
   ],
   "source": [
    "print \"Overfitted Model Training MSE: %f\" % metrics.mean_squared_error(lm_overfit.predict(train), train[\"Sales\"])\n",
    "print \"Simple Model Training MSE: %f\" % metrics.mean_squared_error(lm_simple.predict(train), train[\"Sales\"])"
   ]
  },
  {
   "cell_type": "code",
   "execution_count": 33,
   "metadata": {
    "collapsed": false
   },
   "outputs": [
    {
     "name": "stdout",
     "output_type": "stream",
     "text": [
      "Overfitted Model Test MSE: 4.719033\n",
      "Simple Model Test MSE: 2.408094\n"
     ]
    }
   ],
   "source": [
    "print \"Overfitted Model Test MSE: %f\" % metrics.mean_squared_error(lm_overfit.predict(test), test[\"Sales\"])\n",
    "print \"Simple Model Test MSE: %f\" % metrics.mean_squared_error(lm_simple.predict(test), test[\"Sales\"])"
   ]
  },
  {
   "cell_type": "markdown",
   "metadata": {},
   "source": [
    "### Cross Validation \n",
    "\n",
    "1. Split the dataset into K **equal** partitions (or \"folds\").\n",
    "2. Use fold 1 as the **testing set** and the union of the other folds as the **training set**.\n",
    "3. Calculate **testing accuracy**.\n",
    "4. Repeat steps 2 and 3 K times, using a **different fold** as the testing set each time.\n",
    "5. Use the **average testing accuracy** as the estimate of out-of-sample accuracy."
   ]
  },
  {
   "cell_type": "code",
   "execution_count": 38,
   "metadata": {
    "collapsed": true
   },
   "outputs": [],
   "source": [
    "n = 30\n",
    "x_sample = np.linspace(0, 15, n) # linspace is generic generation of random numbers in order\n",
    "y_sample = func(x_sample) + noise(x_sample) \n",
    "df = pd.DataFrame({'x': x_sample, 'y': y_sample})"
   ]
  },
  {
   "cell_type": "code",
   "execution_count": 37,
   "metadata": {
    "collapsed": false
   },
   "outputs": [
    {
     "data": {
      "text/plain": [
       "(array([ 0,  1,  2,  3,  4,  5,  6,  7,  8,  9, 10, 11, 13, 15, 16, 17, 19,\n",
       "        20, 22, 23, 25, 26, 27, 29]), array([12, 14, 18, 21, 24, 28]))"
      ]
     },
     "execution_count": 37,
     "metadata": {},
     "output_type": "execute_result"
    }
   ],
   "source": [
    "kf.split(df).next()"
   ]
  },
  {
   "cell_type": "code",
   "execution_count": 40,
   "metadata": {
    "collapsed": false
   },
   "outputs": [
    {
     "name": "stdout",
     "output_type": "stream",
     "text": [
      "Degree 1\n",
      "Model 1\n",
      "RMSE: 26.7328805064\n",
      "R2: 0.56100983756\n",
      "Model 2\n",
      "RMSE: 14.6140825819\n",
      "R2: 0.571655070648\n",
      "Model 3\n",
      "RMSE: 23.0447991958\n",
      "R2: 0.571133767487\n",
      "Model 4\n",
      "RMSE: 27.7308249303\n",
      "R2: 0.540748401691\n",
      "Model 5\n",
      "RMSE: 11.440205733\n",
      "R2: 0.569123951692\n",
      "~~~~ SUMMARY OF CROSS VALIDATION ~~~~\n",
      "Mean of RMSE for all folds: 20.7125585895\n",
      "Mean of R2 for all folds: 0.562734205816\n",
      "\n",
      "Degree 2\n",
      "Model 1\n",
      "RMSE: 4.06547194453\n",
      "R2: 0.967608586202\n",
      "Model 2\n",
      "RMSE: 4.55177491504\n",
      "R2: 0.967751177863\n",
      "Model 3\n",
      "RMSE: 6.49602079223\n",
      "R2: 0.967215053803\n",
      "Model 4\n",
      "RMSE: 5.05977487558\n",
      "R2: 0.967886073684\n",
      "Model 5\n",
      "RMSE: 7.92244195687\n",
      "R2: 0.966381850153\n",
      "~~~~ SUMMARY OF CROSS VALIDATION ~~~~\n",
      "Mean of RMSE for all folds: 5.61909689685\n",
      "Mean of R2 for all folds: 0.967368548341\n",
      "\n",
      "Degree 8\n",
      "Model 1\n",
      "RMSE: 15.7555690416\n",
      "R2: 0.924793885473\n",
      "Model 2\n",
      "RMSE: 5.24000870101\n",
      "R2: 0.967566503351\n",
      "Model 3\n",
      "RMSE: 7.70781394466\n",
      "R2: 0.965590215397\n",
      "Model 4\n",
      "RMSE: 10.6504929849\n",
      "R2: 0.960323458023\n",
      "Model 5\n",
      "RMSE: 5.49170424855\n",
      "R2: 0.966669050908\n",
      "~~~~ SUMMARY OF CROSS VALIDATION ~~~~\n",
      "Mean of RMSE for all folds: 8.96911778414\n",
      "Mean of R2 for all folds: 0.95698862263\n",
      "\n"
     ]
    }
   ],
   "source": [
    "kf = model_selection.KFold(n_splits=5, shuffle=True)\n",
    "for degree in [1, 2, 8]:\n",
    "    print \"Degree\", degree #x^n or whatever slope\n",
    "    rmse_values = []\n",
    "    scores = []\n",
    "    models = []\n",
    "    n = 0\n",
    "    for train_index, test_index in kf.split(df): #'kf' is an iterater (different set of training and test indices each time)- pass data into it as an object. \n",
    "        n += 1\n",
    "        model = make_pipeline(PolynomialFeatures(degree), LinearRegression())\n",
    "        model.fit(df.iloc[train_index][['x']], df.iloc[train_index]['y'])\n",
    "        y_pred = model.predict(df.iloc[test_index][['x']])\n",
    "        rmse_values.append(np.sqrt(metrics.mean_squared_error(y_pred, df.iloc[test_index][\"y\"])))\n",
    "        scores.append(model.score(df[['x']], df['y']))\n",
    "        print 'Model', n\n",
    "        print 'RMSE:', rmse_values[n-1]\n",
    "        print 'R2:', scores[n-1]\n",
    "\n",
    "    print \"~~~~ SUMMARY OF CROSS VALIDATION ~~~~\"\n",
    "    print 'Mean of RMSE for all folds:', np.mean(rmse_values)\n",
    "    print 'Mean of R2 for all folds:', np.mean(scores)\n",
    "    print"
   ]
  },
  {
   "cell_type": "markdown",
   "metadata": {},
   "source": [
    "### Cross Validation on the advertising dataset"
   ]
  },
  {
   "cell_type": "code",
   "execution_count": 42,
   "metadata": {
    "collapsed": false
   },
   "outputs": [
    {
     "name": "stdout",
     "output_type": "stream",
     "text": [
      "Model 1 RMSE: 1.596953\n",
      "Model 2 RMSE: 1.534505\n",
      "Model 3 RMSE: 2.177538\n",
      "Model 4 RMSE: 1.557254\n",
      "Model 5 RMSE: 1.525739\n",
      "Average RMSE: 1.67839779306\n"
     ]
    }
   ],
   "source": [
    "rmse_list = []\n",
    "n = 0\n",
    "for train_index, test_index in kf.split(advert): # splitting up the advertising dataset\n",
    "    n += 1\n",
    "    train = advert.iloc[train_index] # Returns all the data that have been split and is relevant to this case.\n",
    "    test = advert.iloc[test_index]\n",
    "    lm = smf.ols(formula = \"Sales ~ TV + Radio + Newspaper\", data=train).fit() # stats model to train the data\n",
    "    ypreds = lm.predict(test[[\"TV\", \"Radio\", \"Newspaper\"]]) # running the prediction on the test data\n",
    "    rmse = np.sqrt(metrics.mean_squared_error(ypreds, test[\"Sales\"])) #computing difference in the errors\n",
    "    rmse_list.append(rmse)\n",
    "    print \"Model %d RMSE: %f\" % (n, rmse)\n",
    "print \"Average RMSE:\", np.mean(rmse_list)"
   ]
  },
  {
   "cell_type": "markdown",
   "metadata": {},
   "source": [
    "### Using Sklearn\n",
    "\n",
    "Let's practice cross validation and construct the model this time using Sklearn"
   ]
  },
  {
   "cell_type": "code",
   "execution_count": 43,
   "metadata": {
    "collapsed": false
   },
   "outputs": [
    {
     "name": "stdout",
     "output_type": "stream",
     "text": [
      "Model 1 RMSE: 1.709354\n",
      "Model 2 RMSE: 2.281684\n",
      "Model 3 RMSE: 1.559981\n",
      "Model 4 RMSE: 1.551372\n",
      "Model 5 RMSE: 1.399290\n",
      "Average RMSE: 1.70033633745\n"
     ]
    }
   ],
   "source": [
    "rmse_list = []\n",
    "n = 0\n",
    "for train_index, test_index in kf.split(advert):\n",
    "    n += 1\n",
    "    train = advert.iloc[train_index]\n",
    "    test = advert.iloc[test_index]\n",
    "    model = LinearRegression().fit(train[[\"TV\", \"Radio\", \"Newspaper\"]], train[\"Sales\"])\n",
    "    ypreds = model.predict(test[[\"TV\", \"Radio\", \"Newspaper\"]])\n",
    "    rmse = np.sqrt(metrics.mean_squared_error(ypreds, test[\"Sales\"]))\n",
    "    rmse_list.append(rmse)\n",
    "    print \"Model %d RMSE: %f\" % (n, rmse)\n",
    "print \"Average RMSE:\", np.mean(rmse_list)\n",
    "#generally take all RMSE do indivual predictions for it and then average out the predictions"
   ]
  },
  {
   "cell_type": "markdown",
   "metadata": {},
   "source": [
    "### Comparing cross-validation to train/test split\n",
    "\n",
    "Advantages of **cross-validation:**\n",
    "\n",
    "- More accurate estimate of out-of-sample accuracy\n",
    "- More \"efficient\" use of data (every observation is used for both training and testing)\n",
    "\n",
    "Advantages of **train/test split:**\n",
    "\n",
    "- Runs K times faster than K-fold cross-validation\n",
    "- Simpler to examine the detailed results of the testing process\n",
    "\n",
    "### Cross-validation recommendations\n",
    "\n",
    "- K can be any number, but **K = 5 or 10** is generally recommended\n",
    "- For classification problems, **stratified sampling** is recommended for creating the folds i.e. Each response class should be represented with equal proportions in each of the K folds - Good representative sample in each split"
   ]
  },
  {
   "cell_type": "markdown",
   "metadata": {},
   "source": [
    "### Regularization "
   ]
  },
  {
   "cell_type": "markdown",
   "metadata": {},
   "source": [
    "If your model is very complex (i.e., lots of features, possibly a polynomial fit, etc.), you need to worry more about overfitting.\n",
    "- You'll need regularization when your model is complex, which happens when you have little data or many features.\n",
    "- We'll fit the (unregularized) `LinearRegression`, as well as the (regularized) `Ridge` and `Lasso` model.\n",
    "  - Lasso regression imposes an L1 prior on the coefficient, causing many coeffiecients to be zero.\n",
    "  - Ridge regression imposes an L2 prior on the coefficient, causing outliers to be less likely, and coeffiecients to be small across the board.\n",
    "\n",
    "Let's revisit the hypothetical model we created earlier and see if applying regularization can prevent the overfitting we previously observed with high polynomial features."
   ]
  },
  {
   "cell_type": "code",
   "execution_count": 48,
   "metadata": {
    "collapsed": true
   },
   "outputs": [],
   "source": [
    "kf = model_selection.KFold(n_splits=10, shuffle=True, random_state=1)\n",
    "n = 30\n",
    "x_sample = np.linspace(0, 15, n)\n",
    "y_sample = func(x_sample) + noise(x_sample) \n",
    "df = pd.DataFrame({'x': x_sample, 'y': y_sample})"
   ]
  },
  {
   "cell_type": "code",
   "execution_count": 49,
   "metadata": {
    "collapsed": false
   },
   "outputs": [
    {
     "name": "stdout",
     "output_type": "stream",
     "text": [
      "RMSE:  7.96433861755\n"
     ]
    }
   ],
   "source": [
    "mse_values = []\n",
    "for train_index, test_index in kf.split(df):\n",
    "    degree = 10\n",
    "    model = make_pipeline(PolynomialFeatures(degree), LinearRegression()).fit(df.iloc[train_index][['x']], df.iloc[train_index]['y'])\n",
    "    y_pred = model.predict(df.iloc[test_index][['x']])\n",
    "    mse_values.append(metrics.mean_squared_error(y_pred, df.iloc[test_index][\"y\"]))\n",
    "print 'RMSE: ', np.sqrt(np.mean(mse_values))"
   ]
  },
  {
   "cell_type": "markdown",
   "metadata": {},
   "source": [
    "### Ridge Regression "
   ]
  },
  {
   "cell_type": "code",
   "execution_count": 50,
   "metadata": {
    "collapsed": false
   },
   "outputs": [
    {
     "name": "stdout",
     "output_type": "stream",
     "text": [
      "Alpha: 0.000100 RMSE: 6.382594\n",
      "Alpha: 0.001000 RMSE: 6.371105\n",
      "Alpha: 0.010000 RMSE: 6.501328\n",
      "Alpha: 0.100000 RMSE: 6.613498\n",
      "Alpha: 1.000000 RMSE: 7.970956\n",
      "Alpha: 10.000000 RMSE: 10.678306\n",
      "Alpha: 100.000000 RMSE: 13.278796\n",
      "Alpha: 1000.000000 RMSE: 24.531363\n",
      "Alpha: 10000.000000 RMSE: 29.140532\n"
     ]
    }
   ],
   "source": [
    "alphas = np.logspace(-4, 4, 9) #range of tuning variablles to play around with \n",
    "for alpha in alphas:\n",
    "    mse_values = []\n",
    "    for train_index, test_index in kf.split(df):\n",
    "        degree = 10\n",
    "        model = make_pipeline(PolynomialFeatures(degree), StandardScaler(), Ridge(alpha)).fit(df.iloc[train_index][['x']], df.iloc[train_index]['y'])\n",
    "        y_pred = model.predict(df.iloc[test_index][['x']])\n",
    "        mse_values.append(metrics.mean_squared_error(y_pred, df.iloc[test_index][\"y\"]))\n",
    "    print 'Alpha: %f RMSE: %f' % (alpha, np.sqrt(np.mean(mse_values)))"
   ]
  },
  {
   "cell_type": "markdown",
   "metadata": {},
   "source": [
    "### Lasso "
   ]
  },
  {
   "cell_type": "code",
   "execution_count": 51,
   "metadata": {
    "collapsed": false
   },
   "outputs": [
    {
     "name": "stdout",
     "output_type": "stream",
     "text": [
      "Alpha: 0.000100 RMSE: 6.397653\n",
      "Alpha: 0.001000 RMSE: 6.398671\n",
      "Alpha: 0.010000 RMSE: 6.416968\n",
      "Alpha: 0.100000 RMSE: 6.920365\n",
      "Alpha: 1.000000 RMSE: 9.141255\n",
      "Alpha: 10.000000 RMSE: 13.842468\n",
      "Alpha: 100.000000 RMSE: 29.793609\n",
      "Alpha: 1000.000000 RMSE: 29.793609\n",
      "Alpha: 10000.000000 RMSE: 29.793609\n"
     ]
    }
   ],
   "source": [
    "alphas = np.logspace(-4, 4, 9)\n",
    "for alpha in alphas:\n",
    "    mse_values = []\n",
    "    for train_index, test_index in kf.split(df):\n",
    "        degree = 10\n",
    "        model = make_pipeline(PolynomialFeatures(degree), StandardScaler(), Lasso(alpha)).fit(df.iloc[train_index][['x']], df.iloc[train_index]['y'])\n",
    "        y_pred = model.predict(df.iloc[test_index][['x']])\n",
    "        mse_values.append(metrics.mean_squared_error(y_pred, df.iloc[test_index][\"y\"]))\n",
    "    print 'Alpha: %f RMSE: %f' % (alpha, np.sqrt(np.mean(mse_values)))"
   ]
  },
  {
   "cell_type": "markdown",
   "metadata": {},
   "source": [
    "### Bonus: We can use GridSearch to automate all this! "
   ]
  },
  {
   "cell_type": "code",
   "execution_count": 52,
   "metadata": {
    "collapsed": false
   },
   "outputs": [
    {
     "data": {
      "text/plain": [
       "GridSearchCV(cv=KFold(n_splits=10, random_state=1, shuffle=True),\n",
       "       error_score='raise',\n",
       "       estimator=Pipeline(steps=[('polynomialfeatures', PolynomialFeatures(degree=10, include_bias=True, interaction_only=False)), ('standardscaler', StandardScaler(copy=True, with_mean=True, with_std=True)), ('lasso', Lasso(alpha=1.0, copy_X=True, fit_intercept=True, max_iter=1000,\n",
       "   normalize=False, positive=False, precompute=False, random_state=None,\n",
       "   selection='cyclic', tol=0.0001, warm_start=False))]),\n",
       "       fit_params={}, iid=True, n_jobs=1,\n",
       "       param_grid={'lasso__alpha': array([  1.00000e-04,   1.00000e-03,   1.00000e-02,   1.00000e-01,\n",
       "         1.00000e+00,   1.00000e+01,   1.00000e+02,   1.00000e+03,\n",
       "         1.00000e+04])},\n",
       "       pre_dispatch='2*n_jobs', refit=True, return_train_score=True,\n",
       "       scoring='neg_mean_squared_error', verbose=0)"
      ]
     },
     "execution_count": 52,
     "metadata": {},
     "output_type": "execute_result"
    }
   ],
   "source": [
    "pipe = make_pipeline(PolynomialFeatures(10), StandardScaler(), Lasso())\n",
    "alphas = np.logspace(-4, 4, 9)\n",
    "gs = model_selection.GridSearchCV(\n",
    "    estimator=pipe,\n",
    "    param_grid={'lasso__alpha': alphas},\n",
    "    scoring='neg_mean_squared_error',\n",
    "    cv=kf)\n",
    "\n",
    "gs.fit(df[['x']], df['y'])"
   ]
  },
  {
   "cell_type": "code",
   "execution_count": 53,
   "metadata": {
    "collapsed": false
   },
   "outputs": [
    {
     "data": {
      "text/plain": [
       "Pipeline(steps=[('polynomialfeatures', PolynomialFeatures(degree=10, include_bias=True, interaction_only=False)), ('standardscaler', StandardScaler(copy=True, with_mean=True, with_std=True)), ('lasso', Lasso(alpha=0.0001, copy_X=True, fit_intercept=True, max_iter=1000,\n",
       "   normalize=False, positive=False, precompute=False, random_state=None,\n",
       "   selection='cyclic', tol=0.0001, warm_start=False))])"
      ]
     },
     "execution_count": 53,
     "metadata": {},
     "output_type": "execute_result"
    }
   ],
   "source": [
    "gs.best_estimator_"
   ]
  },
  {
   "cell_type": "code",
   "execution_count": 54,
   "metadata": {
    "collapsed": false
   },
   "outputs": [
    {
     "data": {
      "text/plain": [
       "{'lasso__alpha': 0.0001}"
      ]
     },
     "execution_count": 54,
     "metadata": {},
     "output_type": "execute_result"
    }
   ],
   "source": [
    "gs.best_params_"
   ]
  },
  {
   "cell_type": "code",
   "execution_count": 55,
   "metadata": {
    "collapsed": false
   },
   "outputs": [
    {
     "data": {
      "text/plain": [
       "-40.929969621261804"
      ]
     },
     "execution_count": 55,
     "metadata": {},
     "output_type": "execute_result"
    }
   ],
   "source": [
    "gs.best_score_"
   ]
  },
  {
   "cell_type": "code",
   "execution_count": 56,
   "metadata": {
    "collapsed": false
   },
   "outputs": [
    {
     "data": {
      "text/plain": [
       "6.3976534464803425"
      ]
     },
     "execution_count": 56,
     "metadata": {},
     "output_type": "execute_result"
    }
   ],
   "source": [
    "np.sqrt(-gs.best_score_)"
   ]
  },
  {
   "cell_type": "code",
   "execution_count": null,
   "metadata": {
    "collapsed": true
   },
   "outputs": [],
   "source": []
  }
 ],
 "metadata": {
  "anaconda-cloud": {},
  "kernelspec": {
   "display_name": "Python 2",
   "language": "python",
   "name": "python2"
  },
  "language_info": {
   "codemirror_mode": {
    "name": "ipython",
    "version": 2
   },
   "file_extension": ".py",
   "mimetype": "text/x-python",
   "name": "python",
   "nbconvert_exporter": "python",
   "pygments_lexer": "ipython2",
   "version": "2.7.13"
  }
 },
 "nbformat": 4,
 "nbformat_minor": 2
}
