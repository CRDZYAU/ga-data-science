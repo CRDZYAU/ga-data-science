{
 "cells": [
  {
   "cell_type": "code",
   "execution_count": 1,
   "metadata": {
    "collapsed": true
   },
   "outputs": [],
   "source": [
    "import pandas as pd"
   ]
  },
  {
   "cell_type": "markdown",
   "metadata": {},
   "source": [
    "# import pandas first"
   ]
  },
  {
   "cell_type": "code",
   "execution_count": 3,
   "metadata": {
    "collapsed": true
   },
   "outputs": [],
   "source": [
    "gebiz = pd.read_csv(\"data/government-procurement-via-gebiz.csv\")"
   ]
  },
  {
   "cell_type": "markdown",
   "metadata": {},
   "source": [
    "# 1. how many rows are there in the data?"
   ]
  },
  {
   "cell_type": "code",
   "execution_count": 5,
   "metadata": {
    "collapsed": false
   },
   "outputs": [
    {
     "data": {
      "text/plain": [
       "12796"
      ]
     },
     "execution_count": 5,
     "metadata": {},
     "output_type": "execute_result"
    }
   ],
   "source": [
    "len(gebiz)"
   ]
  },
  {
   "cell_type": "markdown",
   "metadata": {},
   "source": [
    "# 2. display first ten rows of the dataset"
   ]
  },
  {
   "cell_type": "code",
   "execution_count": 7,
   "metadata": {
    "collapsed": false
   },
   "outputs": [
    {
     "data": {
      "text/html": [
       "<div>\n",
       "<table border=\"1\" class=\"dataframe\">\n",
       "  <thead>\n",
       "    <tr style=\"text-align: right;\">\n",
       "      <th></th>\n",
       "      <th>tender_no.</th>\n",
       "      <th>agency</th>\n",
       "      <th>tender_description</th>\n",
       "      <th>award_date</th>\n",
       "      <th>tender_detail_status</th>\n",
       "      <th>supplier_name</th>\n",
       "      <th>awarded_amt</th>\n",
       "    </tr>\n",
       "  </thead>\n",
       "  <tbody>\n",
       "    <tr>\n",
       "      <th>0</th>\n",
       "      <td>ACR000ETT14000007</td>\n",
       "      <td>Accounting And Corporate Regulatory Authority</td>\n",
       "      <td>Provision Of Event Management And Related Serv...</td>\n",
       "      <td>2015-02-06</td>\n",
       "      <td>Awarded to No Suppliers</td>\n",
       "      <td>NaN</td>\n",
       "      <td>0.00</td>\n",
       "    </tr>\n",
       "    <tr>\n",
       "      <th>1</th>\n",
       "      <td>ACR000ETT14000008</td>\n",
       "      <td>Accounting And Corporate Regulatory Authority</td>\n",
       "      <td>Invitation To Tender For The Provision Of Alte...</td>\n",
       "      <td>2015-04-30</td>\n",
       "      <td>Awarded to No Suppliers</td>\n",
       "      <td>NaN</td>\n",
       "      <td>0.00</td>\n",
       "    </tr>\n",
       "    <tr>\n",
       "      <th>2</th>\n",
       "      <td>ACR000ETT14000009</td>\n",
       "      <td>Accounting And Corporate Regulatory Authority</td>\n",
       "      <td>Invitation To Tender For The Provision Of Manp...</td>\n",
       "      <td>2015-01-28</td>\n",
       "      <td>Awarded to Suppliers</td>\n",
       "      <td>RMA CONTRACTS PTE. LTD.</td>\n",
       "      <td>76071.21</td>\n",
       "    </tr>\n",
       "    <tr>\n",
       "      <th>3</th>\n",
       "      <td>ACR000ETT15000004</td>\n",
       "      <td>Accounting And Corporate Regulatory Authority</td>\n",
       "      <td>Invitation To Tender For The Provision Of Manp...</td>\n",
       "      <td>2015-07-01</td>\n",
       "      <td>Awarded to Suppliers</td>\n",
       "      <td>TESCOM (SINGAPORE) SOFTWARE SYSTEMS TESTING PT...</td>\n",
       "      <td>84000.00</td>\n",
       "    </tr>\n",
       "    <tr>\n",
       "      <th>4</th>\n",
       "      <td>ACR000ETT15000005</td>\n",
       "      <td>Accounting And Corporate Regulatory Authority</td>\n",
       "      <td>Proposed Interior Fitting Out Works for ACRA's...</td>\n",
       "      <td>2015-04-24</td>\n",
       "      <td>Awarded to Suppliers</td>\n",
       "      <td>MKS GLOBAL PTE. LTD.</td>\n",
       "      <td>653255.00</td>\n",
       "    </tr>\n",
       "    <tr>\n",
       "      <th>5</th>\n",
       "      <td>ACR000ETT15000006</td>\n",
       "      <td>Accounting And Corporate Regulatory Authority</td>\n",
       "      <td>Provision Of Smart Card Access Control System ...</td>\n",
       "      <td>2015-06-26</td>\n",
       "      <td>Awarded to Suppliers</td>\n",
       "      <td>CERTIS CISCO SECURITY TECHNOLOGY PTE. LTD.</td>\n",
       "      <td>87690.00</td>\n",
       "    </tr>\n",
       "    <tr>\n",
       "      <th>6</th>\n",
       "      <td>ACR000ETT15000009</td>\n",
       "      <td>Accounting And Corporate Regulatory Authority</td>\n",
       "      <td>Invitation to tender for the provision of serv...</td>\n",
       "      <td>2015-08-14</td>\n",
       "      <td>Awarded to Suppliers</td>\n",
       "      <td>RHT COMPLIANCE SOLUTIONS PTE. LTD.</td>\n",
       "      <td>392000.00</td>\n",
       "    </tr>\n",
       "    <tr>\n",
       "      <th>7</th>\n",
       "      <td>ACR000ETT15000010</td>\n",
       "      <td>Accounting And Corporate Regulatory Authority</td>\n",
       "      <td>Invitation To Tender For The Provision Of Clea...</td>\n",
       "      <td>2015-07-30</td>\n",
       "      <td>Awarded to Suppliers</td>\n",
       "      <td>CLEANMAGE PTE. LTD.</td>\n",
       "      <td>122400.00</td>\n",
       "    </tr>\n",
       "    <tr>\n",
       "      <th>8</th>\n",
       "      <td>ACR000ETT15000011</td>\n",
       "      <td>Accounting And Corporate Regulatory Authority</td>\n",
       "      <td>Invitation to Tender for the provision of cons...</td>\n",
       "      <td>2015-11-23</td>\n",
       "      <td>Awarded to Suppliers</td>\n",
       "      <td>SOLUTIONSATWORK PTE. LTD.</td>\n",
       "      <td>320000.00</td>\n",
       "    </tr>\n",
       "    <tr>\n",
       "      <th>9</th>\n",
       "      <td>ACR000ETT15000013</td>\n",
       "      <td>Accounting And Corporate Regulatory Authority</td>\n",
       "      <td>Invitation to Tender (ITT) for the Provision o...</td>\n",
       "      <td>2016-02-19</td>\n",
       "      <td>Awarded to Suppliers</td>\n",
       "      <td>RHTLAW TAYLOR WESSING LLP</td>\n",
       "      <td>250000.00</td>\n",
       "    </tr>\n",
       "  </tbody>\n",
       "</table>\n",
       "</div>"
      ],
      "text/plain": [
       "          tender_no.                                         agency  \\\n",
       "0  ACR000ETT14000007  Accounting And Corporate Regulatory Authority   \n",
       "1  ACR000ETT14000008  Accounting And Corporate Regulatory Authority   \n",
       "2  ACR000ETT14000009  Accounting And Corporate Regulatory Authority   \n",
       "3  ACR000ETT15000004  Accounting And Corporate Regulatory Authority   \n",
       "4  ACR000ETT15000005  Accounting And Corporate Regulatory Authority   \n",
       "5  ACR000ETT15000006  Accounting And Corporate Regulatory Authority   \n",
       "6  ACR000ETT15000009  Accounting And Corporate Regulatory Authority   \n",
       "7  ACR000ETT15000010  Accounting And Corporate Regulatory Authority   \n",
       "8  ACR000ETT15000011  Accounting And Corporate Regulatory Authority   \n",
       "9  ACR000ETT15000013  Accounting And Corporate Regulatory Authority   \n",
       "\n",
       "                                  tender_description  award_date  \\\n",
       "0  Provision Of Event Management And Related Serv...  2015-02-06   \n",
       "1  Invitation To Tender For The Provision Of Alte...  2015-04-30   \n",
       "2  Invitation To Tender For The Provision Of Manp...  2015-01-28   \n",
       "3  Invitation To Tender For The Provision Of Manp...  2015-07-01   \n",
       "4  Proposed Interior Fitting Out Works for ACRA's...  2015-04-24   \n",
       "5  Provision Of Smart Card Access Control System ...  2015-06-26   \n",
       "6  Invitation to tender for the provision of serv...  2015-08-14   \n",
       "7  Invitation To Tender For The Provision Of Clea...  2015-07-30   \n",
       "8  Invitation to Tender for the provision of cons...  2015-11-23   \n",
       "9  Invitation to Tender (ITT) for the Provision o...  2016-02-19   \n",
       "\n",
       "      tender_detail_status                                      supplier_name  \\\n",
       "0  Awarded to No Suppliers                                                NaN   \n",
       "1  Awarded to No Suppliers                                                NaN   \n",
       "2     Awarded to Suppliers                            RMA CONTRACTS PTE. LTD.   \n",
       "3     Awarded to Suppliers  TESCOM (SINGAPORE) SOFTWARE SYSTEMS TESTING PT...   \n",
       "4     Awarded to Suppliers                               MKS GLOBAL PTE. LTD.   \n",
       "5     Awarded to Suppliers         CERTIS CISCO SECURITY TECHNOLOGY PTE. LTD.   \n",
       "6     Awarded to Suppliers                 RHT COMPLIANCE SOLUTIONS PTE. LTD.   \n",
       "7     Awarded to Suppliers                                CLEANMAGE PTE. LTD.   \n",
       "8     Awarded to Suppliers                          SOLUTIONSATWORK PTE. LTD.   \n",
       "9     Awarded to Suppliers                          RHTLAW TAYLOR WESSING LLP   \n",
       "\n",
       "   awarded_amt  \n",
       "0         0.00  \n",
       "1         0.00  \n",
       "2     76071.21  \n",
       "3     84000.00  \n",
       "4    653255.00  \n",
       "5     87690.00  \n",
       "6    392000.00  \n",
       "7    122400.00  \n",
       "8    320000.00  \n",
       "9    250000.00  "
      ]
     },
     "execution_count": 7,
     "metadata": {},
     "output_type": "execute_result"
    }
   ],
   "source": [
    "gebiz.head(10)"
   ]
  },
  {
   "cell_type": "markdown",
   "metadata": {},
   "source": [
    "# display bottom 10 rows of dataset"
   ]
  },
  {
   "cell_type": "code",
   "execution_count": 9,
   "metadata": {
    "collapsed": false,
    "scrolled": true
   },
   "outputs": [
    {
     "data": {
      "text/html": [
       "<div>\n",
       "<table border=\"1\" class=\"dataframe\">\n",
       "  <thead>\n",
       "    <tr style=\"text-align: right;\">\n",
       "      <th></th>\n",
       "      <th>tender_no.</th>\n",
       "      <th>agency</th>\n",
       "      <th>tender_description</th>\n",
       "      <th>award_date</th>\n",
       "      <th>tender_detail_status</th>\n",
       "      <th>supplier_name</th>\n",
       "      <th>awarded_amt</th>\n",
       "    </tr>\n",
       "  </thead>\n",
       "  <tbody>\n",
       "    <tr>\n",
       "      <th>12786</th>\n",
       "      <td>WDA000ETT16000023</td>\n",
       "      <td>Workforce Singapore</td>\n",
       "      <td>SUPPLY, DELIVERY AND INSTALLATION OF FURNITURE</td>\n",
       "      <td>2016-09-09</td>\n",
       "      <td>Awarded to Suppliers</td>\n",
       "      <td>IM SPACE PTE. LTD.</td>\n",
       "      <td>106924.0</td>\n",
       "    </tr>\n",
       "    <tr>\n",
       "      <th>12787</th>\n",
       "      <td>WDA000ETT16000023</td>\n",
       "      <td>Workforce Singapore</td>\n",
       "      <td>SUPPLY, DELIVERY AND INSTALLATION OF FURNITURE</td>\n",
       "      <td>2016-09-09</td>\n",
       "      <td>Awarded to Suppliers</td>\n",
       "      <td>Innoplan Technology Pte Ltd</td>\n",
       "      <td>74712.0</td>\n",
       "    </tr>\n",
       "    <tr>\n",
       "      <th>12788</th>\n",
       "      <td>WDA000ETT16000023</td>\n",
       "      <td>Workforce Singapore</td>\n",
       "      <td>SUPPLY, DELIVERY AND INSTALLATION OF FURNITURE</td>\n",
       "      <td>2016-09-09</td>\n",
       "      <td>Awarded to Suppliers</td>\n",
       "      <td>VCOP Pte Ltd</td>\n",
       "      <td>472075.0</td>\n",
       "    </tr>\n",
       "    <tr>\n",
       "      <th>12789</th>\n",
       "      <td>WDA000ETT16000024</td>\n",
       "      <td>Workforce Singapore</td>\n",
       "      <td>Appointment of Media Agency to Provide Media S...</td>\n",
       "      <td>2016-09-30</td>\n",
       "      <td>Awarded to Suppliers</td>\n",
       "      <td>DENTSU MOBIUS MEDIA PTE. LTD.</td>\n",
       "      <td>8517.5</td>\n",
       "    </tr>\n",
       "    <tr>\n",
       "      <th>12790</th>\n",
       "      <td>WDA000ETT16000025</td>\n",
       "      <td>Workforce Singapore</td>\n",
       "      <td>Provision of Media Monitoring and Clipping Ser...</td>\n",
       "      <td>2016-09-19</td>\n",
       "      <td>Awarded to Suppliers</td>\n",
       "      <td>NEWS SEARCH (SINGAPORE) PTE. LTD.</td>\n",
       "      <td>54300.0</td>\n",
       "    </tr>\n",
       "    <tr>\n",
       "      <th>12791</th>\n",
       "      <td>WDA000ETT16000026</td>\n",
       "      <td>Workforce Singapore</td>\n",
       "      <td>Invitation to Tender for Office Interior Fit-Out</td>\n",
       "      <td>2016-09-15</td>\n",
       "      <td>Awarded to Suppliers</td>\n",
       "      <td>ID.INC INTERIORS PTE LTD</td>\n",
       "      <td>3641716.0</td>\n",
       "    </tr>\n",
       "    <tr>\n",
       "      <th>12792</th>\n",
       "      <td>WDA000ETT16000027</td>\n",
       "      <td>Workforce Singapore</td>\n",
       "      <td>Invitation to Tender for Reinstatement Works f...</td>\n",
       "      <td>2016-11-02</td>\n",
       "      <td>Awarded to No Suppliers</td>\n",
       "      <td>NaN</td>\n",
       "      <td>0.0</td>\n",
       "    </tr>\n",
       "    <tr>\n",
       "      <th>12793</th>\n",
       "      <td>WDA000ETT16000028</td>\n",
       "      <td>SkillsFuture Singapore</td>\n",
       "      <td>Provision of Consultancy Services for Energy a...</td>\n",
       "      <td>2016-11-05</td>\n",
       "      <td>Awarded to Suppliers</td>\n",
       "      <td>SITE GROUP INTERNATIONAL PTE. LTD.</td>\n",
       "      <td>378000.0</td>\n",
       "    </tr>\n",
       "    <tr>\n",
       "      <th>12794</th>\n",
       "      <td>WDA000ETT16000029</td>\n",
       "      <td>SkillsFuture Singapore</td>\n",
       "      <td>Provision of Wireless@SG</td>\n",
       "      <td>2016-10-21</td>\n",
       "      <td>Awarded to Suppliers</td>\n",
       "      <td>M1 NET LTD.</td>\n",
       "      <td>42168.3</td>\n",
       "    </tr>\n",
       "    <tr>\n",
       "      <th>12795</th>\n",
       "      <td>WDA000ETT16000030</td>\n",
       "      <td>SkillsFuture Singapore</td>\n",
       "      <td>Supply, Delivery, Installation, Testing and Co...</td>\n",
       "      <td>2016-11-28</td>\n",
       "      <td>Awarded to Suppliers</td>\n",
       "      <td>ANACLE SYSTEMS LIMITED</td>\n",
       "      <td>161137.0</td>\n",
       "    </tr>\n",
       "  </tbody>\n",
       "</table>\n",
       "</div>"
      ],
      "text/plain": [
       "              tender_no.                  agency  \\\n",
       "12786  WDA000ETT16000023     Workforce Singapore   \n",
       "12787  WDA000ETT16000023     Workforce Singapore   \n",
       "12788  WDA000ETT16000023     Workforce Singapore   \n",
       "12789  WDA000ETT16000024     Workforce Singapore   \n",
       "12790  WDA000ETT16000025     Workforce Singapore   \n",
       "12791  WDA000ETT16000026     Workforce Singapore   \n",
       "12792  WDA000ETT16000027     Workforce Singapore   \n",
       "12793  WDA000ETT16000028  SkillsFuture Singapore   \n",
       "12794  WDA000ETT16000029  SkillsFuture Singapore   \n",
       "12795  WDA000ETT16000030  SkillsFuture Singapore   \n",
       "\n",
       "                                      tender_description  award_date  \\\n",
       "12786     SUPPLY, DELIVERY AND INSTALLATION OF FURNITURE  2016-09-09   \n",
       "12787     SUPPLY, DELIVERY AND INSTALLATION OF FURNITURE  2016-09-09   \n",
       "12788     SUPPLY, DELIVERY AND INSTALLATION OF FURNITURE  2016-09-09   \n",
       "12789  Appointment of Media Agency to Provide Media S...  2016-09-30   \n",
       "12790  Provision of Media Monitoring and Clipping Ser...  2016-09-19   \n",
       "12791   Invitation to Tender for Office Interior Fit-Out  2016-09-15   \n",
       "12792  Invitation to Tender for Reinstatement Works f...  2016-11-02   \n",
       "12793  Provision of Consultancy Services for Energy a...  2016-11-05   \n",
       "12794                           Provision of Wireless@SG  2016-10-21   \n",
       "12795  Supply, Delivery, Installation, Testing and Co...  2016-11-28   \n",
       "\n",
       "          tender_detail_status                       supplier_name  \\\n",
       "12786     Awarded to Suppliers                  IM SPACE PTE. LTD.   \n",
       "12787     Awarded to Suppliers         Innoplan Technology Pte Ltd   \n",
       "12788     Awarded to Suppliers                        VCOP Pte Ltd   \n",
       "12789     Awarded to Suppliers       DENTSU MOBIUS MEDIA PTE. LTD.   \n",
       "12790     Awarded to Suppliers   NEWS SEARCH (SINGAPORE) PTE. LTD.   \n",
       "12791     Awarded to Suppliers            ID.INC INTERIORS PTE LTD   \n",
       "12792  Awarded to No Suppliers                                 NaN   \n",
       "12793     Awarded to Suppliers  SITE GROUP INTERNATIONAL PTE. LTD.   \n",
       "12794     Awarded to Suppliers                         M1 NET LTD.   \n",
       "12795     Awarded to Suppliers              ANACLE SYSTEMS LIMITED   \n",
       "\n",
       "       awarded_amt  \n",
       "12786     106924.0  \n",
       "12787      74712.0  \n",
       "12788     472075.0  \n",
       "12789       8517.5  \n",
       "12790      54300.0  \n",
       "12791    3641716.0  \n",
       "12792          0.0  \n",
       "12793     378000.0  \n",
       "12794      42168.3  \n",
       "12795     161137.0  "
      ]
     },
     "execution_count": 9,
     "metadata": {},
     "output_type": "execute_result"
    }
   ],
   "source": [
    "gebiz.tail(10)"
   ]
  },
  {
   "cell_type": "markdown",
   "metadata": {},
   "source": [
    "# display descriptive statistics for the dataset"
   ]
  },
  {
   "cell_type": "code",
   "execution_count": 11,
   "metadata": {
    "collapsed": false
   },
   "outputs": [
    {
     "data": {
      "text/html": [
       "<div>\n",
       "<table border=\"1\" class=\"dataframe\">\n",
       "  <thead>\n",
       "    <tr style=\"text-align: right;\">\n",
       "      <th></th>\n",
       "      <th>awarded_amt</th>\n",
       "    </tr>\n",
       "  </thead>\n",
       "  <tbody>\n",
       "    <tr>\n",
       "      <th>count</th>\n",
       "      <td>1.279600e+04</td>\n",
       "    </tr>\n",
       "    <tr>\n",
       "      <th>mean</th>\n",
       "      <td>3.254089e+06</td>\n",
       "    </tr>\n",
       "    <tr>\n",
       "      <th>std</th>\n",
       "      <td>2.897157e+07</td>\n",
       "    </tr>\n",
       "    <tr>\n",
       "      <th>min</th>\n",
       "      <td>0.000000e+00</td>\n",
       "    </tr>\n",
       "    <tr>\n",
       "      <th>25%</th>\n",
       "      <td>3.049375e+04</td>\n",
       "    </tr>\n",
       "    <tr>\n",
       "      <th>50%</th>\n",
       "      <td>1.666032e+05</td>\n",
       "    </tr>\n",
       "    <tr>\n",
       "      <th>75%</th>\n",
       "      <td>6.632815e+05</td>\n",
       "    </tr>\n",
       "    <tr>\n",
       "      <th>max</th>\n",
       "      <td>1.988000e+09</td>\n",
       "    </tr>\n",
       "  </tbody>\n",
       "</table>\n",
       "</div>"
      ],
      "text/plain": [
       "        awarded_amt\n",
       "count  1.279600e+04\n",
       "mean   3.254089e+06\n",
       "std    2.897157e+07\n",
       "min    0.000000e+00\n",
       "25%    3.049375e+04\n",
       "50%    1.666032e+05\n",
       "75%    6.632815e+05\n",
       "max    1.988000e+09"
      ]
     },
     "execution_count": 11,
     "metadata": {},
     "output_type": "execute_result"
    }
   ],
   "source": [
    "gebiz.describe()"
   ]
  },
  {
   "cell_type": "markdown",
   "metadata": {},
   "source": [
    "# 5. List top ten agencies for based on number of tenders released"
   ]
  },
  {
   "cell_type": "code",
   "execution_count": 31,
   "metadata": {
    "collapsed": false
   },
   "outputs": [
    {
     "data": {
      "text/plain": [
       "agency\n",
       "Housing and Development Board                    817\n",
       "Ministry of Home Affairs-Ministry Headquarter    694\n",
       "Public Utilities Board                           688\n",
       "People's Association                             612\n",
       "Agency for Science, Technology and Research      544\n",
       "National University of Singapore                 527\n",
       "Land Transport Authority                         494\n",
       "Nanyang Technological University                 414\n",
       "Ngee Ann Polytechnic                             385\n",
       "Ministry of Education                            382\n",
       "Name: tender_no., dtype: int64"
      ]
     },
     "execution_count": 31,
     "metadata": {},
     "output_type": "execute_result"
    }
   ],
   "source": [
    "gebiz.groupby(\"agency\").count()[\"tender_no.\"].sort_values(ascending=False)[:10]"
   ]
  },
  {
   "cell_type": "markdown",
   "metadata": {},
   "source": [
    "# Agency based on highest tenders top 10"
   ]
  },
  {
   "cell_type": "code",
   "execution_count": 32,
   "metadata": {
    "collapsed": false
   },
   "outputs": [
    {
     "data": {
      "text/html": [
       "<div>\n",
       "<table border=\"1\" class=\"dataframe\">\n",
       "  <thead>\n",
       "    <tr style=\"text-align: right;\">\n",
       "      <th></th>\n",
       "      <th>awarded_amt</th>\n",
       "    </tr>\n",
       "    <tr>\n",
       "      <th>agency</th>\n",
       "      <th></th>\n",
       "    </tr>\n",
       "  </thead>\n",
       "  <tbody>\n",
       "    <tr>\n",
       "      <th>Land Transport Authority</th>\n",
       "      <td>1.168735e+10</td>\n",
       "    </tr>\n",
       "    <tr>\n",
       "      <th>Housing and Development Board</th>\n",
       "      <td>9.320627e+09</td>\n",
       "    </tr>\n",
       "    <tr>\n",
       "      <th>Public Utilities Board</th>\n",
       "      <td>3.690339e+09</td>\n",
       "    </tr>\n",
       "    <tr>\n",
       "      <th>Ministry of Home Affairs-Ministry Headquarter</th>\n",
       "      <td>2.930470e+09</td>\n",
       "    </tr>\n",
       "    <tr>\n",
       "      <th>Ministry of Health-Ministry Headquarter</th>\n",
       "      <td>2.690449e+09</td>\n",
       "    </tr>\n",
       "    <tr>\n",
       "      <th>Jurong Town Corporation</th>\n",
       "      <td>1.748720e+09</td>\n",
       "    </tr>\n",
       "    <tr>\n",
       "      <th>Ministry of Education</th>\n",
       "      <td>1.108433e+09</td>\n",
       "    </tr>\n",
       "    <tr>\n",
       "      <th>Nanyang Technological University</th>\n",
       "      <td>8.381366e+08</td>\n",
       "    </tr>\n",
       "    <tr>\n",
       "      <th>National Parks Board</th>\n",
       "      <td>5.663140e+08</td>\n",
       "    </tr>\n",
       "    <tr>\n",
       "      <th>Ministry of Defence</th>\n",
       "      <td>5.560914e+08</td>\n",
       "    </tr>\n",
       "  </tbody>\n",
       "</table>\n",
       "</div>"
      ],
      "text/plain": [
       "                                                awarded_amt\n",
       "agency                                                     \n",
       "Land Transport Authority                       1.168735e+10\n",
       "Housing and Development Board                  9.320627e+09\n",
       "Public Utilities Board                         3.690339e+09\n",
       "Ministry of Home Affairs-Ministry Headquarter  2.930470e+09\n",
       "Ministry of Health-Ministry Headquarter        2.690449e+09\n",
       "Jurong Town Corporation                        1.748720e+09\n",
       "Ministry of Education                          1.108433e+09\n",
       "Nanyang Technological University               8.381366e+08\n",
       "National Parks Board                           5.663140e+08\n",
       "Ministry of Defence                            5.560914e+08"
      ]
     },
     "execution_count": 32,
     "metadata": {},
     "output_type": "execute_result"
    }
   ],
   "source": [
    "gebiz.groupby(\"agency\").sum().sort_values(by=\"awarded_amt\", ascending=False)[:10]"
   ]
  },
  {
   "cell_type": "markdown",
   "metadata": {},
   "source": [
    "# 7 What percentage of the tenders were not awarded to any suppliers?"
   ]
  },
  {
   "cell_type": "code",
   "execution_count": 33,
   "metadata": {
    "collapsed": false
   },
   "outputs": [
    {
     "data": {
      "text/plain": [
       "Awarded to Suppliers       12184\n",
       "Awarded to No Suppliers      612\n",
       "Name: tender_detail_status, dtype: int64"
      ]
     },
     "execution_count": 33,
     "metadata": {},
     "output_type": "execute_result"
    }
   ],
   "source": [
    "gebiz.tender_detail_status.value_counts()"
   ]
  },
  {
   "cell_type": "code",
   "execution_count": 48,
   "metadata": {
    "collapsed": false
   },
   "outputs": [
    {
     "data": {
      "text/plain": [
       "0.04782744607689903"
      ]
     },
     "execution_count": 48,
     "metadata": {},
     "output_type": "execute_result"
    }
   ],
   "source": [
    "float(len(gebiz[gebiz[\"tender_detail_status\"] == \"Awarded to No Suppliers\"])) /\\\n",
    "len(gebiz)"
   ]
  },
  {
   "cell_type": "code",
   "execution_count": 49,
   "metadata": {
    "collapsed": false
   },
   "outputs": [
    {
     "data": {
      "text/plain": [
       "0         True\n",
       "1         True\n",
       "2        False\n",
       "3        False\n",
       "4        False\n",
       "5        False\n",
       "6        False\n",
       "7        False\n",
       "8        False\n",
       "9        False\n",
       "10       False\n",
       "11       False\n",
       "12       False\n",
       "13       False\n",
       "14       False\n",
       "15       False\n",
       "16       False\n",
       "17       False\n",
       "18       False\n",
       "19       False\n",
       "20        True\n",
       "21       False\n",
       "22       False\n",
       "23       False\n",
       "24       False\n",
       "25       False\n",
       "26       False\n",
       "27       False\n",
       "28       False\n",
       "29        True\n",
       "         ...  \n",
       "12766     True\n",
       "12767    False\n",
       "12768    False\n",
       "12769    False\n",
       "12770    False\n",
       "12771    False\n",
       "12772    False\n",
       "12773    False\n",
       "12774    False\n",
       "12775    False\n",
       "12776    False\n",
       "12777    False\n",
       "12778    False\n",
       "12779    False\n",
       "12780    False\n",
       "12781    False\n",
       "12782    False\n",
       "12783    False\n",
       "12784    False\n",
       "12785    False\n",
       "12786    False\n",
       "12787    False\n",
       "12788    False\n",
       "12789    False\n",
       "12790    False\n",
       "12791    False\n",
       "12792     True\n",
       "12793    False\n",
       "12794    False\n",
       "12795    False\n",
       "Name: tender_detail_status, dtype: bool"
      ]
     },
     "execution_count": 49,
     "metadata": {},
     "output_type": "execute_result"
    }
   ],
   "source": [
    "gebiz[\"tender_detail_status\"] == \"Awarded to No Suppliers\""
   ]
  },
  {
   "cell_type": "markdown",
   "metadata": {},
   "source": [
    "# 8. Create new columns for the year and month of the tender award"
   ]
  },
  {
   "cell_type": "code",
   "execution_count": null,
   "metadata": {
    "collapsed": true
   },
   "outputs": [],
   "source": []
  }
 ],
 "metadata": {
  "kernelspec": {
   "display_name": "Python 2",
   "language": "python",
   "name": "python2"
  },
  "language_info": {
   "codemirror_mode": {
    "name": "ipython",
    "version": 2
   },
   "file_extension": ".py",
   "mimetype": "text/x-python",
   "name": "python",
   "nbconvert_exporter": "python",
   "pygments_lexer": "ipython2",
   "version": "2.7.13"
  }
 },
 "nbformat": 4,
 "nbformat_minor": 2
}
