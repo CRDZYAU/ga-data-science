{
 "cells": [
  {
   "cell_type": "code",
   "execution_count": 1,
   "metadata": {
    "collapsed": true
   },
   "outputs": [],
   "source": [
    "import pandas as pd\n",
    "import numpy as np\n",
    "import matplotlib.pyplot as plt"
   ]
  },
  {
   "cell_type": "code",
   "execution_count": 2,
   "metadata": {
    "collapsed": true
   },
   "outputs": [],
   "source": [
    "passengers = pd.read_csv(\"data/air-passenger-arrivals-by-country-of-embarkation.csv\")"
   ]
  },
  {
   "cell_type": "code",
   "execution_count": 3,
   "metadata": {
    "collapsed": false
   },
   "outputs": [
    {
     "data": {
      "text/html": [
       "<div>\n",
       "<table border=\"1\" class=\"dataframe\">\n",
       "  <thead>\n",
       "    <tr style=\"text-align: right;\">\n",
       "      <th></th>\n",
       "      <th>month</th>\n",
       "      <th>level_1</th>\n",
       "      <th>level_2</th>\n",
       "      <th>level_3</th>\n",
       "      <th>value</th>\n",
       "    </tr>\n",
       "  </thead>\n",
       "  <tbody>\n",
       "    <tr>\n",
       "      <th>0</th>\n",
       "      <td>1961-01</td>\n",
       "      <td>Number Of Air Passenger Arrivals</td>\n",
       "      <td>South East Asia</td>\n",
       "      <td>Malaysia</td>\n",
       "      <td>na</td>\n",
       "    </tr>\n",
       "    <tr>\n",
       "      <th>1</th>\n",
       "      <td>1961-01</td>\n",
       "      <td>Number Of Air Passenger Arrivals</td>\n",
       "      <td>South East Asia</td>\n",
       "      <td>Indonesia</td>\n",
       "      <td>1687</td>\n",
       "    </tr>\n",
       "    <tr>\n",
       "      <th>2</th>\n",
       "      <td>1961-01</td>\n",
       "      <td>Number Of Air Passenger Arrivals</td>\n",
       "      <td>South East Asia</td>\n",
       "      <td>Thailand</td>\n",
       "      <td>1172</td>\n",
       "    </tr>\n",
       "    <tr>\n",
       "      <th>3</th>\n",
       "      <td>1961-01</td>\n",
       "      <td>Number Of Air Passenger Arrivals</td>\n",
       "      <td>South East Asia</td>\n",
       "      <td>Philippines</td>\n",
       "      <td>139</td>\n",
       "    </tr>\n",
       "    <tr>\n",
       "      <th>4</th>\n",
       "      <td>1961-01</td>\n",
       "      <td>Number Of Air Passenger Arrivals</td>\n",
       "      <td>South East Asia</td>\n",
       "      <td>Vietnam</td>\n",
       "      <td>na</td>\n",
       "    </tr>\n",
       "  </tbody>\n",
       "</table>\n",
       "</div>"
      ],
      "text/plain": [
       "     month                           level_1          level_2      level_3  \\\n",
       "0  1961-01  Number Of Air Passenger Arrivals  South East Asia     Malaysia   \n",
       "1  1961-01  Number Of Air Passenger Arrivals  South East Asia    Indonesia   \n",
       "2  1961-01  Number Of Air Passenger Arrivals  South East Asia     Thailand   \n",
       "3  1961-01  Number Of Air Passenger Arrivals  South East Asia  Philippines   \n",
       "4  1961-01  Number Of Air Passenger Arrivals  South East Asia      Vietnam   \n",
       "\n",
       "  value  \n",
       "0    na  \n",
       "1  1687  \n",
       "2  1172  \n",
       "3   139  \n",
       "4    na  "
      ]
     },
     "execution_count": 3,
     "metadata": {},
     "output_type": "execute_result"
    }
   ],
   "source": [
    "passengers.head()"
   ]
  },
  {
   "cell_type": "code",
   "execution_count": 4,
   "metadata": {
    "collapsed": true
   },
   "outputs": [],
   "source": [
    "passengers = pd.read_csv(\"data/air-passenger-arrivals-by-country-of-embarkation.csv\", na_values=[\"na\", \"-\"],\n",
    "                        names=[\"year-month\", \"total\", \"region\", \"country\", \"value\"], header=0)"
   ]
  },
  {
   "cell_type": "code",
   "execution_count": 5,
   "metadata": {
    "collapsed": false
   },
   "outputs": [
    {
     "data": {
      "text/plain": [
       "country\n",
       "Malaysia          64924645.0\n",
       "Indonesia         63995595.0\n",
       "Thailand          50736256.0\n",
       "Hong Kong         35468033.0\n",
       "Japan             30487564.0\n",
       "China             29866493.0\n",
       "Philippines       18466360.0\n",
       "United Kingdom    17950341.0\n",
       "Vietnam           11064922.0\n",
       "Germany            8438001.0\n",
       "France             4462481.0\n",
       "Name: value, dtype: float64"
      ]
     },
     "execution_count": 5,
     "metadata": {},
     "output_type": "execute_result"
    }
   ],
   "source": [
    "passengers.groupby(\"country\")[\"value\"].sum().sort_values(ascending=False)"
   ]
  },
  {
   "cell_type": "code",
   "execution_count": 6,
   "metadata": {
    "collapsed": false
   },
   "outputs": [
    {
     "data": {
      "text/html": [
       "<div>\n",
       "<table border=\"1\" class=\"dataframe\">\n",
       "  <thead>\n",
       "    <tr style=\"text-align: right;\">\n",
       "      <th></th>\n",
       "      <th>year-month</th>\n",
       "      <th>total</th>\n",
       "      <th>region</th>\n",
       "      <th>country</th>\n",
       "      <th>value</th>\n",
       "    </tr>\n",
       "  </thead>\n",
       "  <tbody>\n",
       "    <tr>\n",
       "      <th>7392</th>\n",
       "      <td>2017-01</td>\n",
       "      <td>Number Of Air Passenger Arrivals</td>\n",
       "      <td>South East Asia</td>\n",
       "      <td>Malaysia</td>\n",
       "      <td>259314.0</td>\n",
       "    </tr>\n",
       "    <tr>\n",
       "      <th>7393</th>\n",
       "      <td>2017-01</td>\n",
       "      <td>Number Of Air Passenger Arrivals</td>\n",
       "      <td>South East Asia</td>\n",
       "      <td>Indonesia</td>\n",
       "      <td>308766.0</td>\n",
       "    </tr>\n",
       "    <tr>\n",
       "      <th>7394</th>\n",
       "      <td>2017-01</td>\n",
       "      <td>Number Of Air Passenger Arrivals</td>\n",
       "      <td>South East Asia</td>\n",
       "      <td>Thailand</td>\n",
       "      <td>244080.0</td>\n",
       "    </tr>\n",
       "    <tr>\n",
       "      <th>7395</th>\n",
       "      <td>2017-01</td>\n",
       "      <td>Number Of Air Passenger Arrivals</td>\n",
       "      <td>South East Asia</td>\n",
       "      <td>Philippines</td>\n",
       "      <td>139796.0</td>\n",
       "    </tr>\n",
       "    <tr>\n",
       "      <th>7396</th>\n",
       "      <td>2017-01</td>\n",
       "      <td>Number Of Air Passenger Arrivals</td>\n",
       "      <td>South East Asia</td>\n",
       "      <td>Vietnam</td>\n",
       "      <td>98670.0</td>\n",
       "    </tr>\n",
       "    <tr>\n",
       "      <th>7397</th>\n",
       "      <td>2017-01</td>\n",
       "      <td>Number Of Air Passenger Arrivals</td>\n",
       "      <td>North East Asia</td>\n",
       "      <td>China</td>\n",
       "      <td>296317.0</td>\n",
       "    </tr>\n",
       "    <tr>\n",
       "      <th>7398</th>\n",
       "      <td>2017-01</td>\n",
       "      <td>Number Of Air Passenger Arrivals</td>\n",
       "      <td>North East Asia</td>\n",
       "      <td>Hong Kong</td>\n",
       "      <td>161089.0</td>\n",
       "    </tr>\n",
       "    <tr>\n",
       "      <th>7399</th>\n",
       "      <td>2017-01</td>\n",
       "      <td>Number Of Air Passenger Arrivals</td>\n",
       "      <td>North East Asia</td>\n",
       "      <td>Japan</td>\n",
       "      <td>109393.0</td>\n",
       "    </tr>\n",
       "    <tr>\n",
       "      <th>7400</th>\n",
       "      <td>2017-01</td>\n",
       "      <td>Number Of Air Passenger Arrivals</td>\n",
       "      <td>Europe</td>\n",
       "      <td>United Kingdom</td>\n",
       "      <td>52431.0</td>\n",
       "    </tr>\n",
       "    <tr>\n",
       "      <th>7401</th>\n",
       "      <td>2017-01</td>\n",
       "      <td>Number Of Air Passenger Arrivals</td>\n",
       "      <td>Europe</td>\n",
       "      <td>France</td>\n",
       "      <td>18160.0</td>\n",
       "    </tr>\n",
       "    <tr>\n",
       "      <th>7402</th>\n",
       "      <td>2017-01</td>\n",
       "      <td>Number Of Air Passenger Arrivals</td>\n",
       "      <td>Europe</td>\n",
       "      <td>Germany</td>\n",
       "      <td>32906.0</td>\n",
       "    </tr>\n",
       "  </tbody>\n",
       "</table>\n",
       "</div>"
      ],
      "text/plain": [
       "     year-month                             total           region  \\\n",
       "7392    2017-01  Number Of Air Passenger Arrivals  South East Asia   \n",
       "7393    2017-01  Number Of Air Passenger Arrivals  South East Asia   \n",
       "7394    2017-01  Number Of Air Passenger Arrivals  South East Asia   \n",
       "7395    2017-01  Number Of Air Passenger Arrivals  South East Asia   \n",
       "7396    2017-01  Number Of Air Passenger Arrivals  South East Asia   \n",
       "7397    2017-01  Number Of Air Passenger Arrivals  North East Asia   \n",
       "7398    2017-01  Number Of Air Passenger Arrivals  North East Asia   \n",
       "7399    2017-01  Number Of Air Passenger Arrivals  North East Asia   \n",
       "7400    2017-01  Number Of Air Passenger Arrivals           Europe   \n",
       "7401    2017-01  Number Of Air Passenger Arrivals           Europe   \n",
       "7402    2017-01  Number Of Air Passenger Arrivals           Europe   \n",
       "\n",
       "             country     value  \n",
       "7392        Malaysia  259314.0  \n",
       "7393       Indonesia  308766.0  \n",
       "7394        Thailand  244080.0  \n",
       "7395     Philippines  139796.0  \n",
       "7396         Vietnam   98670.0  \n",
       "7397           China  296317.0  \n",
       "7398       Hong Kong  161089.0  \n",
       "7399           Japan  109393.0  \n",
       "7400  United Kingdom   52431.0  \n",
       "7401          France   18160.0  \n",
       "7402         Germany   32906.0  "
      ]
     },
     "execution_count": 6,
     "metadata": {},
     "output_type": "execute_result"
    }
   ],
   "source": [
    "passengers[passengers[\"year-month\"] == \"2017-01\"]"
   ]
  },
  {
   "cell_type": "code",
   "execution_count": 7,
   "metadata": {
    "collapsed": true
   },
   "outputs": [],
   "source": [
    "passengers_201701 = passengers[passengers[\"year-month\"] == \"2017-01\"]"
   ]
  },
  {
   "cell_type": "code",
   "execution_count": 8,
   "metadata": {
    "collapsed": false
   },
   "outputs": [
    {
     "data": {
      "text/html": [
       "<div>\n",
       "<table border=\"1\" class=\"dataframe\">\n",
       "  <thead>\n",
       "    <tr style=\"text-align: right;\">\n",
       "      <th></th>\n",
       "      <th>year-month</th>\n",
       "      <th>total</th>\n",
       "      <th>region</th>\n",
       "      <th>country</th>\n",
       "      <th>value</th>\n",
       "    </tr>\n",
       "  </thead>\n",
       "  <tbody>\n",
       "    <tr>\n",
       "      <th>7393</th>\n",
       "      <td>2017-01</td>\n",
       "      <td>Number Of Air Passenger Arrivals</td>\n",
       "      <td>South East Asia</td>\n",
       "      <td>Indonesia</td>\n",
       "      <td>308766.0</td>\n",
       "    </tr>\n",
       "    <tr>\n",
       "      <th>7397</th>\n",
       "      <td>2017-01</td>\n",
       "      <td>Number Of Air Passenger Arrivals</td>\n",
       "      <td>North East Asia</td>\n",
       "      <td>China</td>\n",
       "      <td>296317.0</td>\n",
       "    </tr>\n",
       "    <tr>\n",
       "      <th>7392</th>\n",
       "      <td>2017-01</td>\n",
       "      <td>Number Of Air Passenger Arrivals</td>\n",
       "      <td>South East Asia</td>\n",
       "      <td>Malaysia</td>\n",
       "      <td>259314.0</td>\n",
       "    </tr>\n",
       "    <tr>\n",
       "      <th>7394</th>\n",
       "      <td>2017-01</td>\n",
       "      <td>Number Of Air Passenger Arrivals</td>\n",
       "      <td>South East Asia</td>\n",
       "      <td>Thailand</td>\n",
       "      <td>244080.0</td>\n",
       "    </tr>\n",
       "    <tr>\n",
       "      <th>7398</th>\n",
       "      <td>2017-01</td>\n",
       "      <td>Number Of Air Passenger Arrivals</td>\n",
       "      <td>North East Asia</td>\n",
       "      <td>Hong Kong</td>\n",
       "      <td>161089.0</td>\n",
       "    </tr>\n",
       "    <tr>\n",
       "      <th>7395</th>\n",
       "      <td>2017-01</td>\n",
       "      <td>Number Of Air Passenger Arrivals</td>\n",
       "      <td>South East Asia</td>\n",
       "      <td>Philippines</td>\n",
       "      <td>139796.0</td>\n",
       "    </tr>\n",
       "    <tr>\n",
       "      <th>7399</th>\n",
       "      <td>2017-01</td>\n",
       "      <td>Number Of Air Passenger Arrivals</td>\n",
       "      <td>North East Asia</td>\n",
       "      <td>Japan</td>\n",
       "      <td>109393.0</td>\n",
       "    </tr>\n",
       "    <tr>\n",
       "      <th>7396</th>\n",
       "      <td>2017-01</td>\n",
       "      <td>Number Of Air Passenger Arrivals</td>\n",
       "      <td>South East Asia</td>\n",
       "      <td>Vietnam</td>\n",
       "      <td>98670.0</td>\n",
       "    </tr>\n",
       "    <tr>\n",
       "      <th>7400</th>\n",
       "      <td>2017-01</td>\n",
       "      <td>Number Of Air Passenger Arrivals</td>\n",
       "      <td>Europe</td>\n",
       "      <td>United Kingdom</td>\n",
       "      <td>52431.0</td>\n",
       "    </tr>\n",
       "    <tr>\n",
       "      <th>7402</th>\n",
       "      <td>2017-01</td>\n",
       "      <td>Number Of Air Passenger Arrivals</td>\n",
       "      <td>Europe</td>\n",
       "      <td>Germany</td>\n",
       "      <td>32906.0</td>\n",
       "    </tr>\n",
       "    <tr>\n",
       "      <th>7401</th>\n",
       "      <td>2017-01</td>\n",
       "      <td>Number Of Air Passenger Arrivals</td>\n",
       "      <td>Europe</td>\n",
       "      <td>France</td>\n",
       "      <td>18160.0</td>\n",
       "    </tr>\n",
       "  </tbody>\n",
       "</table>\n",
       "</div>"
      ],
      "text/plain": [
       "     year-month                             total           region  \\\n",
       "7393    2017-01  Number Of Air Passenger Arrivals  South East Asia   \n",
       "7397    2017-01  Number Of Air Passenger Arrivals  North East Asia   \n",
       "7392    2017-01  Number Of Air Passenger Arrivals  South East Asia   \n",
       "7394    2017-01  Number Of Air Passenger Arrivals  South East Asia   \n",
       "7398    2017-01  Number Of Air Passenger Arrivals  North East Asia   \n",
       "7395    2017-01  Number Of Air Passenger Arrivals  South East Asia   \n",
       "7399    2017-01  Number Of Air Passenger Arrivals  North East Asia   \n",
       "7396    2017-01  Number Of Air Passenger Arrivals  South East Asia   \n",
       "7400    2017-01  Number Of Air Passenger Arrivals           Europe   \n",
       "7402    2017-01  Number Of Air Passenger Arrivals           Europe   \n",
       "7401    2017-01  Number Of Air Passenger Arrivals           Europe   \n",
       "\n",
       "             country     value  \n",
       "7393       Indonesia  308766.0  \n",
       "7397           China  296317.0  \n",
       "7392        Malaysia  259314.0  \n",
       "7394        Thailand  244080.0  \n",
       "7398       Hong Kong  161089.0  \n",
       "7395     Philippines  139796.0  \n",
       "7399           Japan  109393.0  \n",
       "7396         Vietnam   98670.0  \n",
       "7400  United Kingdom   52431.0  \n",
       "7402         Germany   32906.0  \n",
       "7401          France   18160.0  "
      ]
     },
     "execution_count": 8,
     "metadata": {},
     "output_type": "execute_result"
    }
   ],
   "source": [
    "passengers_201701.sort_values(by=\"value\", ascending=False)"
   ]
  },
  {
   "cell_type": "code",
   "execution_count": 9,
   "metadata": {
    "collapsed": false
   },
   "outputs": [
    {
     "data": {
      "text/html": [
       "<div>\n",
       "<table border=\"1\" class=\"dataframe\">\n",
       "  <thead>\n",
       "    <tr style=\"text-align: right;\">\n",
       "      <th></th>\n",
       "      <th>value</th>\n",
       "    </tr>\n",
       "    <tr>\n",
       "      <th>year-month</th>\n",
       "      <th></th>\n",
       "    </tr>\n",
       "  </thead>\n",
       "  <tbody>\n",
       "    <tr>\n",
       "      <th>2016-12</th>\n",
       "      <td>1813414.0</td>\n",
       "    </tr>\n",
       "    <tr>\n",
       "      <th>2016-07</th>\n",
       "      <td>1747537.0</td>\n",
       "    </tr>\n",
       "    <tr>\n",
       "      <th>2017-01</th>\n",
       "      <td>1720922.0</td>\n",
       "    </tr>\n",
       "    <tr>\n",
       "      <th>2017-03</th>\n",
       "      <td>1712386.0</td>\n",
       "    </tr>\n",
       "    <tr>\n",
       "      <th>2015-12</th>\n",
       "      <td>1710942.0</td>\n",
       "    </tr>\n",
       "  </tbody>\n",
       "</table>\n",
       "</div>"
      ],
      "text/plain": [
       "                value\n",
       "year-month           \n",
       "2016-12     1813414.0\n",
       "2016-07     1747537.0\n",
       "2017-01     1720922.0\n",
       "2017-03     1712386.0\n",
       "2015-12     1710942.0"
      ]
     },
     "execution_count": 9,
     "metadata": {},
     "output_type": "execute_result"
    }
   ],
   "source": [
    "passengers.groupby(\"year-month\").sum().sort_values(by=\"value\", ascending=False).head(5)"
   ]
  },
  {
   "cell_type": "code",
   "execution_count": 11,
   "metadata": {
    "collapsed": false
   },
   "outputs": [
    {
     "data": {
      "text/plain": [
       "Malaysia       311\n",
       "Indonesia      269\n",
       "Thailand       225\n",
       "China          144\n",
       "Hong Kong      108\n",
       "Japan           51\n",
       "Philippines     45\n",
       "Vietnam          5\n",
       "Name: country, dtype: int64"
      ]
     },
     "execution_count": 11,
     "metadata": {},
     "output_type": "execute_result"
    }
   ],
   "source": [
    "passengers[passengers[\"value\"] > 100000][\"country\"].value_counts() # Which countries have the most number of months with arrivals > 100000"
   ]
  },
  {
   "cell_type": "code",
   "execution_count": 12,
   "metadata": {
    "collapsed": true
   },
   "outputs": [],
   "source": [
    "passengers[\"year\"] = passengers[\"year-month\"].apply(lambda x: int(x.split(\"-\")[0]))"
   ]
  },
  {
   "cell_type": "code",
   "execution_count": 13,
   "metadata": {
    "collapsed": true
   },
   "outputs": [],
   "source": [
    "passengers[\"month\"] = passengers[\"year-month\"].apply(lambda x: int(x.split(\"-\")[1]))"
   ]
  },
  {
   "cell_type": "code",
   "execution_count": 14,
   "metadata": {
    "collapsed": false
   },
   "outputs": [
    {
     "data": {
      "text/html": [
       "<div>\n",
       "<table border=\"1\" class=\"dataframe\">\n",
       "  <thead>\n",
       "    <tr style=\"text-align: right;\">\n",
       "      <th></th>\n",
       "      <th>year-month</th>\n",
       "      <th>total</th>\n",
       "      <th>region</th>\n",
       "      <th>country</th>\n",
       "      <th>value</th>\n",
       "      <th>year</th>\n",
       "      <th>month</th>\n",
       "    </tr>\n",
       "  </thead>\n",
       "  <tbody>\n",
       "    <tr>\n",
       "      <th>0</th>\n",
       "      <td>1961-01</td>\n",
       "      <td>Number Of Air Passenger Arrivals</td>\n",
       "      <td>South East Asia</td>\n",
       "      <td>Malaysia</td>\n",
       "      <td>NaN</td>\n",
       "      <td>1961</td>\n",
       "      <td>1</td>\n",
       "    </tr>\n",
       "    <tr>\n",
       "      <th>1</th>\n",
       "      <td>1961-01</td>\n",
       "      <td>Number Of Air Passenger Arrivals</td>\n",
       "      <td>South East Asia</td>\n",
       "      <td>Indonesia</td>\n",
       "      <td>1687.0</td>\n",
       "      <td>1961</td>\n",
       "      <td>1</td>\n",
       "    </tr>\n",
       "    <tr>\n",
       "      <th>2</th>\n",
       "      <td>1961-01</td>\n",
       "      <td>Number Of Air Passenger Arrivals</td>\n",
       "      <td>South East Asia</td>\n",
       "      <td>Thailand</td>\n",
       "      <td>1172.0</td>\n",
       "      <td>1961</td>\n",
       "      <td>1</td>\n",
       "    </tr>\n",
       "    <tr>\n",
       "      <th>3</th>\n",
       "      <td>1961-01</td>\n",
       "      <td>Number Of Air Passenger Arrivals</td>\n",
       "      <td>South East Asia</td>\n",
       "      <td>Philippines</td>\n",
       "      <td>139.0</td>\n",
       "      <td>1961</td>\n",
       "      <td>1</td>\n",
       "    </tr>\n",
       "    <tr>\n",
       "      <th>4</th>\n",
       "      <td>1961-01</td>\n",
       "      <td>Number Of Air Passenger Arrivals</td>\n",
       "      <td>South East Asia</td>\n",
       "      <td>Vietnam</td>\n",
       "      <td>NaN</td>\n",
       "      <td>1961</td>\n",
       "      <td>1</td>\n",
       "    </tr>\n",
       "  </tbody>\n",
       "</table>\n",
       "</div>"
      ],
      "text/plain": [
       "  year-month                             total           region      country  \\\n",
       "0    1961-01  Number Of Air Passenger Arrivals  South East Asia     Malaysia   \n",
       "1    1961-01  Number Of Air Passenger Arrivals  South East Asia    Indonesia   \n",
       "2    1961-01  Number Of Air Passenger Arrivals  South East Asia     Thailand   \n",
       "3    1961-01  Number Of Air Passenger Arrivals  South East Asia  Philippines   \n",
       "4    1961-01  Number Of Air Passenger Arrivals  South East Asia      Vietnam   \n",
       "\n",
       "    value  year  month  \n",
       "0     NaN  1961      1  \n",
       "1  1687.0  1961      1  \n",
       "2  1172.0  1961      1  \n",
       "3   139.0  1961      1  \n",
       "4     NaN  1961      1  "
      ]
     },
     "execution_count": 14,
     "metadata": {},
     "output_type": "execute_result"
    }
   ],
   "source": [
    "passengers.head()"
   ]
  },
  {
   "cell_type": "code",
   "execution_count": 15,
   "metadata": {
    "collapsed": true
   },
   "outputs": [],
   "source": [
    "# Sort descending by value"
   ]
  },
  {
   "cell_type": "code",
   "execution_count": 16,
   "metadata": {
    "collapsed": false
   },
   "outputs": [
    {
     "data": {
      "text/html": [
       "<div>\n",
       "<table border=\"1\" class=\"dataframe\">\n",
       "  <thead>\n",
       "    <tr style=\"text-align: right;\">\n",
       "      <th></th>\n",
       "      <th>value</th>\n",
       "      <th>year</th>\n",
       "    </tr>\n",
       "    <tr>\n",
       "      <th>month</th>\n",
       "      <th></th>\n",
       "      <th></th>\n",
       "    </tr>\n",
       "  </thead>\n",
       "  <tbody>\n",
       "    <tr>\n",
       "      <th>1</th>\n",
       "      <td>54484.202729</td>\n",
       "      <td>1989.0</td>\n",
       "    </tr>\n",
       "    <tr>\n",
       "      <th>2</th>\n",
       "      <td>52060.263158</td>\n",
       "      <td>1989.0</td>\n",
       "    </tr>\n",
       "    <tr>\n",
       "      <th>3</th>\n",
       "      <td>56602.124756</td>\n",
       "      <td>1989.0</td>\n",
       "    </tr>\n",
       "    <tr>\n",
       "      <th>4</th>\n",
       "      <td>51791.027888</td>\n",
       "      <td>1988.5</td>\n",
       "    </tr>\n",
       "    <tr>\n",
       "      <th>5</th>\n",
       "      <td>50962.653386</td>\n",
       "      <td>1988.5</td>\n",
       "    </tr>\n",
       "    <tr>\n",
       "      <th>6</th>\n",
       "      <td>57080.749004</td>\n",
       "      <td>1988.5</td>\n",
       "    </tr>\n",
       "    <tr>\n",
       "      <th>7</th>\n",
       "      <td>57530.515936</td>\n",
       "      <td>1988.5</td>\n",
       "    </tr>\n",
       "    <tr>\n",
       "      <th>8</th>\n",
       "      <td>57577.836653</td>\n",
       "      <td>1988.5</td>\n",
       "    </tr>\n",
       "    <tr>\n",
       "      <th>9</th>\n",
       "      <td>53150.388446</td>\n",
       "      <td>1988.5</td>\n",
       "    </tr>\n",
       "    <tr>\n",
       "      <th>10</th>\n",
       "      <td>55514.668663</td>\n",
       "      <td>1988.5</td>\n",
       "    </tr>\n",
       "    <tr>\n",
       "      <th>11</th>\n",
       "      <td>55295.302789</td>\n",
       "      <td>1988.5</td>\n",
       "    </tr>\n",
       "    <tr>\n",
       "      <th>12</th>\n",
       "      <td>63531.129482</td>\n",
       "      <td>1988.5</td>\n",
       "    </tr>\n",
       "  </tbody>\n",
       "</table>\n",
       "</div>"
      ],
      "text/plain": [
       "              value    year\n",
       "month                      \n",
       "1      54484.202729  1989.0\n",
       "2      52060.263158  1989.0\n",
       "3      56602.124756  1989.0\n",
       "4      51791.027888  1988.5\n",
       "5      50962.653386  1988.5\n",
       "6      57080.749004  1988.5\n",
       "7      57530.515936  1988.5\n",
       "8      57577.836653  1988.5\n",
       "9      53150.388446  1988.5\n",
       "10     55514.668663  1988.5\n",
       "11     55295.302789  1988.5\n",
       "12     63531.129482  1988.5"
      ]
     },
     "execution_count": 16,
     "metadata": {},
     "output_type": "execute_result"
    }
   ],
   "source": [
    "passengers.groupby(\"month\").mean()"
   ]
  },
  {
   "cell_type": "code",
   "execution_count": 17,
   "metadata": {
    "collapsed": false
   },
   "outputs": [
    {
     "data": {
      "text/plain": [
       "month\n",
       "12    63531.129482\n",
       "8     57577.836653\n",
       "7     57530.515936\n",
       "6     57080.749004\n",
       "3     56602.124756\n",
       "10    55514.668663\n",
       "11    55295.302789\n",
       "1     54484.202729\n",
       "9     53150.388446\n",
       "2     52060.263158\n",
       "4     51791.027888\n",
       "5     50962.653386\n",
       "Name: value, dtype: float64"
      ]
     },
     "execution_count": 17,
     "metadata": {},
     "output_type": "execute_result"
    }
   ],
   "source": [
    "passengers.groupby(\"month\")[\"value\"].mean().sort_values(ascending=False)"
   ]
  },
  {
   "cell_type": "code",
   "execution_count": null,
   "metadata": {
    "collapsed": true
   },
   "outputs": [],
   "source": []
  }
 ],
 "metadata": {
  "kernelspec": {
   "display_name": "Python 2",
   "language": "python",
   "name": "python2"
  },
  "language_info": {
   "codemirror_mode": {
    "name": "ipython",
    "version": 2
   },
   "file_extension": ".py",
   "mimetype": "text/x-python",
   "name": "python",
   "nbconvert_exporter": "python",
   "pygments_lexer": "ipython2",
   "version": "2.7.13"
  }
 },
 "nbformat": 4,
 "nbformat_minor": 2
}
